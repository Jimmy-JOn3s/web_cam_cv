{
 "cells": [
  {
   "cell_type": "code",
   "execution_count": 1,
   "id": "f6086cd8",
   "metadata": {},
   "outputs": [],
   "source": [
    "# Import necessary library:\n",
    "import cv2\n",
    "import numpy as np\n",
    "import matplotlib.pyplot as plt\n",
    "import datetime"
   ]
  },
  {
   "cell_type": "code",
   "execution_count": 2,
   "id": "a3f372ba",
   "metadata": {},
   "outputs": [],
   "source": [
    "cap = cv2.VideoCapture(0)\n",
    "\n",
    "# A flag to toggle between color and grayscale\n",
    "grayscale_mode = False\n",
    "\n",
    "# Check if the webcam is opened correctly\n",
    "if not cap.isOpened():\n",
    "    raise IOError(\"Cannot open webcam\")\n",
    "\n",
    "while True:\n",
    "    # Read a frame from the webcam\n",
    "    ret, frame = cap.read()\n",
    "    if not ret:\n",
    "        break\n",
    "\n",
    "    # Wait for a key press\n",
    "    key = cv2.waitKey(1) & 0xFF\n",
    "\n",
    "    # If '1' is pressed, toggle the grayscale mode\n",
    "    if key == ord('1'):\n",
    "        grayscale_mode = not grayscale_mode\n",
    "    # If 'q' is pressed, break the loop\n",
    "    elif key == ord('q'):\n",
    "        break\n",
    "\n",
    "    # If grayscale mode is on, convert the frame\n",
    "    if grayscale_mode:\n",
    "        display_frame = cv2.cvtColor(frame, cv2.COLOR_BGR2GRAY)\n",
    "    else:\n",
    "        display_frame = frame\n",
    "\n",
    "    # Display the resulting frame\n",
    "    cv2.imshow('Webcam Feed - Press 1 to toggle grayscale, q to quit', display_frame)\n",
    "\n",
    "# Release the capture and destroy all windows\n",
    "cap.release()\n",
    "cv2.destroyAllWindows()\n"
   ]
  },
  {
   "cell_type": "code",
   "execution_count": null,
   "id": "10843ec9",
   "metadata": {},
   "outputs": [],
   "source": []
  }
 ],
 "metadata": {
  "kernelspec": {
   "display_name": "cv-lab",
   "language": "python",
   "name": "python3"
  },
  "language_info": {
   "codemirror_mode": {
    "name": "ipython",
    "version": 3
   },
   "file_extension": ".py",
   "mimetype": "text/x-python",
   "name": "python",
   "nbconvert_exporter": "python",
   "pygments_lexer": "ipython3",
   "version": "3.12.11"
  }
 },
 "nbformat": 4,
 "nbformat_minor": 5
}
